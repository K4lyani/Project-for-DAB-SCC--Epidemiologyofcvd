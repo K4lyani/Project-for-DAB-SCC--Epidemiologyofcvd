{
  "nbformat": 4,
  "nbformat_minor": 0,
  "metadata": {
    "colab": {
      "provenance": [],
      "include_colab_link": true
    },
    "kernelspec": {
      "name": "python3",
      "display_name": "Python 3"
    },
    "language_info": {
      "name": "python"
    }
  },
  "cells": [
    {
      "cell_type": "markdown",
      "metadata": {
        "id": "view-in-github",
        "colab_type": "text"
      },
      "source": [
        "<a href=\"https://colab.research.google.com/github/K4lyani/Project-for-DAB-SCC--Epidemiologyofcvd/blob/main/Epidemiologyofcvdversionforppt.ipynb\" target=\"_parent\"><img src=\"https://colab.research.google.com/assets/colab-badge.svg\" alt=\"Open In Colab\"/></a>"
      ]
    },
    {
      "cell_type": "markdown",
      "source": [
        "# **Importing all the required packages into the web Integrated Development Environment(IDE):**"
      ],
      "metadata": {
        "id": "7j7hqGxVnzCX"
      }
    },
    {
      "cell_type": "code",
      "execution_count": null,
      "metadata": {
        "id": "MSe5Vsbpb6Js"
      },
      "outputs": [],
      "source": [
        "from google.colab import drive\n",
        "drive.mount ('/content/drive')\n",
        "\n",
        "\n",
        "project_directory = '/content/drive/MyDrive/Colab_Notebooks/Project103/'"
      ]
    },
    {
      "cell_type": "markdown",
      "source": [
        "# **Importing all the required packages for the analysis:**"
      ],
      "metadata": {
        "id": "kplFjZ14n8sc"
      }
    },
    {
      "cell_type": "code",
      "source": [
        "import pandas as pd\n",
        "import numpy as np\n",
        "import seaborn as sns\n",
        "import matplotlib.pyplot as plt\n",
        "import os\n",
        "import matplotlib.dates as mdates"
      ],
      "metadata": {
        "id": "q6uTn_DtdSOq"
      },
      "execution_count": null,
      "outputs": []
    },
    {
      "cell_type": "markdown",
      "source": [
        "# **Loading the dowloaded datasets to the web IDE:**"
      ],
      "metadata": {
        "id": "YIT5NpHfEE-q"
      }
    },
    {
      "cell_type": "markdown",
      "source": [
        "# **Prevalance Datasets for Acute Myocardial Infarction(AMI), Heart Failure(HF),Hypertension(HT),Ischemic Heart Disease(IHD),Stroke(S):**"
      ],
      "metadata": {
        "id": "-DDADd62Ezvg"
      }
    },
    {
      "cell_type": "code",
      "source": [
        "pdf_AMI = pd.read_csv(project_directory+'AMI_CP.csv')\n",
        "pdf_HF = pd.read_csv(project_directory+'HF_CP.csv')\n",
        "pdf_HT = pd.read_csv(project_directory+'HT_CP.csv')\n",
        "pdf_IHD = pd.read_csv(project_directory+'IHD_Crude_Prevalence.csv')\n",
        "pdf_S = pd.read_csv(project_directory+'Stroke_Crude_Prevalence.csv')"
      ],
      "metadata": {
        "id": "uTcZcWeGccXe"
      },
      "execution_count": null,
      "outputs": []
    },
    {
      "cell_type": "markdown",
      "source": [
        "# **Incidence Datasets for Acute Myocardial Infarction(AMI), Heart Failure(HF),Hypertension(HT),Ischemic Heart Disease(IHD),Stroke(S):**"
      ],
      "metadata": {
        "id": "NphbHDLcFcNe"
      }
    },
    {
      "cell_type": "code",
      "source": [
        "idf_AMI = pd.read_csv(project_directory+'AMI.csv', encoding='unicode_escape')\n",
        "idf_HF = pd.read_csv(project_directory+'HF.csv', encoding='unicode_escape')\n",
        "idf_HT = pd.read_csv(project_directory+'HT.csv', encoding='unicode_escape')\n",
        "idf_IHD = pd.read_csv(project_directory+'IHD.csv', encoding='unicode_escape')\n",
        "idf_S = pd.read_csv(project_directory+'stroke.csv', encoding='unicode_escape')\n"
      ],
      "metadata": {
        "id": "79Wd_ZfuURDt"
      },
      "execution_count": null,
      "outputs": []
    },
    {
      "cell_type": "markdown",
      "source": [
        "# **Mortality Datasets for Acute Myocardial Infarction(AMI), Heart Failure(HF),Hypertension(HT),Ischemic Heart Disease(IHD),Stroke(S):**"
      ],
      "metadata": {
        "id": "ZayDwNLlFiyb"
      }
    },
    {
      "cell_type": "code",
      "source": [
        "mdf_AMI = pd.read_csv(project_directory+'AMI_Mortality.csv', encoding='unicode_escape')\n",
        "mdf_HF = pd.read_csv(project_directory+'HF_Mortality.csv', encoding='unicode_escape')\n",
        "mdf_HT = pd.read_csv(project_directory+'HT_Mortality.csv', encoding='unicode_escape')\n",
        "mdf_IHD = pd.read_csv(project_directory+'IHD_Mortality.csv', encoding='unicode_escape')\n",
        "mdf_S = pd.read_csv(project_directory+'St_Mortality.csv', encoding='unicode_escape')"
      ],
      "metadata": {
        "id": "ZDIFMExHXWA6"
      },
      "execution_count": null,
      "outputs": []
    },
    {
      "cell_type": "markdown",
      "source": [
        "# **Exploratory Data Analysis(EDA):**"
      ],
      "metadata": {
        "id": "CBL8uK6RZR8Y"
      }
    },
    {
      "cell_type": "markdown",
      "source": [
        "We are doing EDA so we can decide what preprocessing and cleaning is necessary so the end analysis won't be skewed largely."
      ],
      "metadata": {
        "id": "g-ToANmPj2ao"
      }
    },
    {
      "cell_type": "markdown",
      "source": [
        "# **Checking for null values in datasets:**\n"
      ],
      "metadata": {
        "id": "LGOQClG-chQD"
      }
    },
    {
      "cell_type": "markdown",
      "source": [
        "## Acute Myocardial Infarction Prevalance(pdf_AMI), Acute Myocardial Infarction Incidence(idf_AMI), Acute Myocardial Infarction Mortality(mdf_AMI):"
      ],
      "metadata": {
        "id": "B1S2nKYegkPD"
      }
    },
    {
      "cell_type": "code",
      "source": [
        "pdf_AMI.info()"
      ],
      "metadata": {
        "id": "mF5VuoudZVXG"
      },
      "execution_count": null,
      "outputs": []
    },
    {
      "cell_type": "code",
      "source": [
        "idf_AMI.info()"
      ],
      "metadata": {
        "id": "KncA1rryhPk2"
      },
      "execution_count": null,
      "outputs": []
    },
    {
      "cell_type": "code",
      "source": [
        "mdf_AMI.info()"
      ],
      "metadata": {
        "id": "Z970ca0thUlw"
      },
      "execution_count": null,
      "outputs": []
    },
    {
      "cell_type": "code",
      "source": [
        "pdf_AMI.isnull().sum()"
      ],
      "metadata": {
        "id": "e7iOqlVRa6B1"
      },
      "execution_count": null,
      "outputs": []
    },
    {
      "cell_type": "code",
      "source": [
        "idf_AMI.isnull().sum()"
      ],
      "metadata": {
        "id": "FdbreDothZXP"
      },
      "execution_count": null,
      "outputs": []
    },
    {
      "cell_type": "code",
      "source": [
        "mdf_AMI.isnull().sum()"
      ],
      "metadata": {
        "id": "w-TQRnPXhcVN"
      },
      "execution_count": null,
      "outputs": []
    },
    {
      "cell_type": "markdown",
      "source": [
        "### *From the above we can see that all 3 datasets for Acute Myocardial Infarction have null values which will skew the temporal trends so we will drop those values from that dataset as part of the preprocessing and cleaning the data to get it ready for the analysis.*\n",
        "\n",
        "\n"
      ],
      "metadata": {
        "id": "J57rSBsEhl1U"
      }
    },
    {
      "cell_type": "code",
      "source": [
        "pdf_AMI = pd.read_csv(project_directory+'AMI_CP.csv').dropna()\n",
        "idf_AMI = pd.read_csv(project_directory+'AMI.csv', encoding='unicode_escape').dropna()\n",
        "mdf_AMI = pd.read_csv(project_directory+'AMI_Mortality.csv', encoding='unicode_escape').dropna()\n",
        "\n",
        "# checking to verify the sum of null values is now zero for all columns\n",
        "\n",
        "pdf_AMI.isnull().sum()\n",
        "idf_AMI.isnull().sum()\n",
        "mdf_AMI.isnull().sum()\n"
      ],
      "metadata": {
        "id": "1FSOHa1th5xk"
      },
      "execution_count": null,
      "outputs": []
    },
    {
      "cell_type": "markdown",
      "source": [
        "## Heart Failure Prevalance(pdf_HF), Heart Failure Incidence(idf_HF), Heart Failure Mortality(mdf_HF):\n",
        "\n"
      ],
      "metadata": {
        "id": "VedA2_IqigqQ"
      }
    },
    {
      "cell_type": "code",
      "source": [
        "pdf_HF.info()"
      ],
      "metadata": {
        "id": "RjZ1IrCEcOzM"
      },
      "execution_count": null,
      "outputs": []
    },
    {
      "cell_type": "code",
      "source": [
        "pdf_HF.isnull().sum()"
      ],
      "metadata": {
        "id": "BJHUo14pcXGq"
      },
      "execution_count": null,
      "outputs": []
    },
    {
      "cell_type": "code",
      "source": [
        "idf_HF.info()"
      ],
      "metadata": {
        "id": "QTBFdd05i6kd"
      },
      "execution_count": null,
      "outputs": []
    },
    {
      "cell_type": "code",
      "source": [
        "idf_HF.isnull().sum()"
      ],
      "metadata": {
        "id": "y3xHCJhQjAYR"
      },
      "execution_count": null,
      "outputs": []
    },
    {
      "cell_type": "code",
      "source": [
        "mdf_HF.info()"
      ],
      "metadata": {
        "id": "sJTFVsNOjIIf"
      },
      "execution_count": null,
      "outputs": []
    },
    {
      "cell_type": "code",
      "source": [
        "mdf_HF.isnull().sum()"
      ],
      "metadata": {
        "id": "VBJbhpg1jMDJ"
      },
      "execution_count": null,
      "outputs": []
    },
    {
      "cell_type": "markdown",
      "source": [
        "### *From the above we can see that all 3 datasets for Heart Failure have null values which will skew the temporal trends so we will drop those values from that dataset as part of the preprocessing and cleaning the data to get it ready for the analysis.*"
      ],
      "metadata": {
        "id": "UqPRRenqkllL"
      }
    },
    {
      "cell_type": "code",
      "source": [
        "pdf_HF = pd.read_csv(project_directory+'HF_CP.csv').dropna()\n",
        "idf_HF = pd.read_csv(project_directory+'HF.csv', encoding='unicode_escape').dropna()\n",
        "mdf_HF = pd.read_csv(project_directory+'HF_Mortality.csv', encoding='unicode_escape').dropna()\n",
        "\n",
        "# checking to verify the sum of null values is now zero for all columns\n",
        "\n",
        "pdf_HF.isnull().sum()\n",
        "idf_HF.isnull().sum()\n",
        "mdf_HF.isnull().sum()"
      ],
      "metadata": {
        "id": "Q8TSDdE3m9Fd"
      },
      "execution_count": null,
      "outputs": []
    },
    {
      "cell_type": "markdown",
      "source": [
        "## Hypertension Prevalance(pdf_HT), Hypertension Incidence(idf_HT), Hypertension Mortality(mdf_HT):"
      ],
      "metadata": {
        "id": "BWUpwznrk6j-"
      }
    },
    {
      "cell_type": "code",
      "source": [
        "pdf_HT.info()"
      ],
      "metadata": {
        "id": "3CMq7iYplRQx"
      },
      "execution_count": null,
      "outputs": []
    },
    {
      "cell_type": "code",
      "source": [
        "pdf_HT.isnull().sum()"
      ],
      "metadata": {
        "id": "ByST5ldnlX5o"
      },
      "execution_count": null,
      "outputs": []
    },
    {
      "cell_type": "code",
      "source": [
        "idf_HT.info()"
      ],
      "metadata": {
        "id": "mX5pwDABlc6B"
      },
      "execution_count": null,
      "outputs": []
    },
    {
      "cell_type": "code",
      "source": [
        "idf_HT.isnull().sum()"
      ],
      "metadata": {
        "id": "lvmh5KHzlgSd"
      },
      "execution_count": null,
      "outputs": []
    },
    {
      "cell_type": "code",
      "source": [
        "mdf_HT.info()"
      ],
      "metadata": {
        "id": "9II5jwXolpas"
      },
      "execution_count": null,
      "outputs": []
    },
    {
      "cell_type": "code",
      "source": [
        "mdf_HT.isnull().sum()"
      ],
      "metadata": {
        "id": "T4sI-T1ulue6"
      },
      "execution_count": null,
      "outputs": []
    },
    {
      "cell_type": "markdown",
      "source": [
        "### *From the above we can see that all 3 datasets for Hypertension have null values which will skew the temporal trends so we will drop those values from that dataset as part of the preprocessing and cleaning the data to get it ready for the analysis.*"
      ],
      "metadata": {
        "id": "xplYBGFVofgp"
      }
    },
    {
      "cell_type": "code",
      "source": [
        "pdf_HT = pd.read_csv(project_directory+'HT_CP.csv').dropna()\n",
        "idf_HT = pd.read_csv(project_directory+'HT.csv', encoding='unicode_escape').dropna()\n",
        "mdf_HT = pd.read_csv(project_directory+'HT_Mortality.csv', encoding='unicode_escape').dropna()\n",
        "\n",
        "# checking to verify the sum of null values is now zero for all columns\n",
        "\n",
        "pdf_HT.isnull().sum()\n",
        "idf_HT.isnull().sum()\n",
        "mdf_HT.isnull().sum()"
      ],
      "metadata": {
        "id": "ktQ-H2db0aTa"
      },
      "execution_count": null,
      "outputs": []
    },
    {
      "cell_type": "markdown",
      "source": [
        "## Ischemic Heart Disease Prevalance(pdf_IHD), Ischemic Heart Disease Incidence(idf_IHD), Ischemic Heart Disease Mortality(mdf_IHD):"
      ],
      "metadata": {
        "id": "k1BQ-mejxqhi"
      }
    },
    {
      "cell_type": "code",
      "source": [
        "pdf_IHD.info()"
      ],
      "metadata": {
        "id": "E3n7Gu-50kp7"
      },
      "execution_count": null,
      "outputs": []
    },
    {
      "cell_type": "code",
      "source": [
        "pdf_IHD.isnull().sum()"
      ],
      "metadata": {
        "id": "0qKqkJJz07H1"
      },
      "execution_count": null,
      "outputs": []
    },
    {
      "cell_type": "code",
      "source": [
        "idf_IHD.info()"
      ],
      "metadata": {
        "id": "G7ktRMbJ0-Og"
      },
      "execution_count": null,
      "outputs": []
    },
    {
      "cell_type": "code",
      "source": [
        "idf_IHD.isnull().sum()"
      ],
      "metadata": {
        "id": "WOz7XpaQ1CMG"
      },
      "execution_count": null,
      "outputs": []
    },
    {
      "cell_type": "code",
      "source": [
        "mdf_IHD.info()"
      ],
      "metadata": {
        "id": "lw5vI4971I01"
      },
      "execution_count": null,
      "outputs": []
    },
    {
      "cell_type": "code",
      "source": [
        "mdf_IHD.isnull().sum()"
      ],
      "metadata": {
        "id": "CpRnx-gi1EPv"
      },
      "execution_count": null,
      "outputs": []
    },
    {
      "cell_type": "markdown",
      "source": [
        "### From the above we can see that all 3 datasets for Ischemic Heart Disease have null values which will skew the temporal trends so we will drop those values from that dataset as part of the preprocessing and cleaning the data to get it ready for the analysis."
      ],
      "metadata": {
        "id": "laCPVGOC1WJR"
      }
    },
    {
      "cell_type": "code",
      "source": [
        "pdf_IHD = pd.read_csv(project_directory+'IHD_Crude_Prevalence.csv').dropna()\n",
        "idf_IHD = pd.read_csv(project_directory+'IHD.csv', encoding='unicode_escape').dropna()\n",
        "mdf_IHD = pd.read_csv(project_directory+'IHD_Mortality.csv', encoding='unicode_escape').dropna()\n",
        "\n",
        "# checking to verify the sum of null values is now zero for all columns\n",
        "\n",
        "pdf_IHD.isnull().sum()\n",
        "idf_IHD.isnull().sum()\n",
        "mdf_IHD.isnull().sum()"
      ],
      "metadata": {
        "id": "w-KPfn1z1hLh"
      },
      "execution_count": null,
      "outputs": []
    },
    {
      "cell_type": "markdown",
      "source": [
        "## Stroke Prevalance(pdf_S), Stroke Incidence(idf_S), Stroke Mortality(mdf_S):"
      ],
      "metadata": {
        "id": "ffICnWNS16L-"
      }
    },
    {
      "cell_type": "code",
      "source": [
        "pdf_S.info()"
      ],
      "metadata": {
        "id": "YbdMPKtH2MWb"
      },
      "execution_count": null,
      "outputs": []
    },
    {
      "cell_type": "code",
      "source": [
        "pdf_S.isnull().sum()"
      ],
      "metadata": {
        "id": "I-PeG12T2Rnf"
      },
      "execution_count": null,
      "outputs": []
    },
    {
      "cell_type": "code",
      "source": [
        "idf_S.info()"
      ],
      "metadata": {
        "id": "rPIIgiUH2Zob"
      },
      "execution_count": null,
      "outputs": []
    },
    {
      "cell_type": "code",
      "source": [
        "idf_S.isnull().sum()"
      ],
      "metadata": {
        "id": "SmPwHjIv2cQ7"
      },
      "execution_count": null,
      "outputs": []
    },
    {
      "cell_type": "code",
      "source": [
        "mdf_S.info()"
      ],
      "metadata": {
        "id": "EamlieTF2aTD"
      },
      "execution_count": null,
      "outputs": []
    },
    {
      "cell_type": "code",
      "source": [
        "mdf_S.isnull().sum()"
      ],
      "metadata": {
        "id": "ciO8ZSZF2bBl"
      },
      "execution_count": null,
      "outputs": []
    },
    {
      "cell_type": "markdown",
      "source": [
        "### *From the above we can see that all 3 datasets for Ischemic Heart Disease have null values which will skew the temporal trends so we will drop those values from that dataset as part of the preprocessing and cleaning the data to get it ready for the analysis.*"
      ],
      "metadata": {
        "id": "fM5ojRVb2uqJ"
      }
    },
    {
      "cell_type": "code",
      "source": [
        "pdf_S = pd.read_csv(project_directory+'Stroke_Crude_Prevalence.csv').dropna()\n",
        "idf_S = pd.read_csv(project_directory+'stroke.csv', encoding='unicode_escape').dropna()\n",
        "mdf_S = pd.read_csv(project_directory+'St_Mortality.csv', encoding='unicode_escape').dropna()\n",
        "\n",
        "# checking to verify the sum of null values is now zero for all columns\n",
        "\n",
        "pdf_S.isnull().sum()\n",
        "idf_S.isnull().sum()\n",
        "mdf_S.isnull().sum()"
      ],
      "metadata": {
        "id": "PhPb0FwN2w49"
      },
      "execution_count": null,
      "outputs": []
    },
    {
      "cell_type": "markdown",
      "source": [
        "Dropping missing values or NaNs (Not a Number) from a dataset can be necessary for a number of reasons. \n",
        "\n",
        "The reason why we chose to do is that the amount of missing data is small compared to the total amount of data, dropping missing values may not significantly affect the overall analysis. In this case, dropping missing values can be a reasonable way to preserve the integrity of the data without significantly altering the results. \n",
        "\n",
        "Another reason being missing values can cause problems with data analysis. Some functions and methods in data analysis libraries like pandas and numpy may not work properly if the data contains missing values. \n",
        "\n",
        "For example, if you are calculating the mean of a column that contains missing values, you may get an incorrect result. By dropping missing values, you can ensure that your analysis is based on complete data."
      ],
      "metadata": {
        "id": "-xVd-sfN4oku"
      }
    },
    {
      "cell_type": "markdown",
      "source": [
        "# **Filtering the overall canada datapoints from the Area column and only retaining the individual province data points for accuracy:**\n",
        "\n",
        "\n"
      ],
      "metadata": {
        "id": "FemMtdV4IK3f"
      }
    },
    {
      "cell_type": "code",
      "source": [
        "#Prevalance Datasets:\n",
        "\n",
        "provincialpdf_AMI = pdf_AMI.loc[pdf_AMI['Area'] != 'Canada']\n",
        "provincialpdf_HF = pdf_HF.loc[pdf_HF['Area'] != 'Canada']\n",
        "provincialpdf_HT = pdf_HT.loc[pdf_HT['Area'] != 'Canada']\n",
        "provincialpdf_IHD = pdf_IHD.loc[pdf_IHD['Area'] != 'Canada']\n",
        "provincialpdf_S = pdf_S.loc[pdf_S['Area'] != 'Canada']\n",
        "\n",
        "#Incidence Datasets:\n",
        "provincialidf_AMI = idf_AMI.loc[idf_AMI['Area'] != 'Canada']\n",
        "provincialidf_HF = idf_HF.loc[idf_HF['Area'] != 'Canada']\n",
        "provincialidf_HT = idf_HT.loc[idf_HT['Area'] != 'Canada']\n",
        "provincialidf_IHD = idf_IHD.loc[idf_IHD['Area'] != 'Canada']\n",
        "provincialidf_S = idf_S.loc[idf_S['Area'] != 'Canada']\n",
        "\n",
        "#Mortality datasets:\n",
        "\n",
        "provincialmdf_AMI = mdf_AMI.loc[mdf_AMI['Area'] != 'Canada']\n",
        "provincialmdf_HF = mdf_HF.loc[mdf_HF['Area'] != 'Canada']\n",
        "provincialmdf_HT = mdf_HT.loc[mdf_HT['Area'] != 'Canada']\n",
        "provincialmdf_IHD = mdf_IHD.loc[mdf_IHD['Area'] != 'Canada']\n",
        "provincialmdf_S = mdf_S.loc[mdf_S['Area'] != 'Canada']"
      ],
      "metadata": {
        "id": "KpwhzqsA37Oe"
      },
      "execution_count": null,
      "outputs": []
    },
    {
      "cell_type": "code",
      "source": [
        "# Checking that the datapoints for Canada have been filtered out correctly \n",
        "\n",
        "# Prevalance Datasets:\n",
        "print(provincialpdf_AMI['Area'].unique())\n",
        "print(provincialpdf_HF['Area'].unique())\n",
        "print(provincialpdf_HT['Area'].unique())\n",
        "print(provincialpdf_IHD['Area'].unique())\n",
        "print(provincialpdf_S['Area'].unique())\n",
        "\n",
        "# Incidence datasets:\n",
        "print(provincialidf_AMI['Area'].unique())\n",
        "print(provincialidf_HF['Area'].unique())\n",
        "print(provincialidf_HT['Area'].unique())\n",
        "print(provincialidf_IHD['Area'].unique())\n",
        "print(provincialidf_S['Area'].unique())\n",
        "\n",
        "#Mortality datasets:\n",
        "print(provincialmdf_AMI['Area'].unique())\n",
        "print(provincialmdf_HF['Area'].unique())\n",
        "print(provincialmdf_HT['Area'].unique())\n",
        "print(provincialmdf_IHD['Area'].unique())\n",
        "print(provincialmdf_S['Area'].unique())\n",
        "\n"
      ],
      "metadata": {
        "id": "SHrX0fqT5tPH"
      },
      "execution_count": null,
      "outputs": []
    },
    {
      "cell_type": "markdown",
      "source": [
        "*The above confirms that the Consolidated value for all of canada has been filtered out. Now we can proceed to analysing our data.*"
      ],
      "metadata": {
        "id": "sMweX4VJdpqb"
      }
    },
    {
      "cell_type": "markdown",
      "source": [
        "# **Data Analysis Questions:**\n",
        "\n",
        "What are the similarities and differences in incidence, mortality and prevalance rates of specific cardiovascular diseases across Canada?\n",
        "\n",
        "What are the temporal trends in incidence, mortality and prevalance rates of specific cardiovascular diseases over time?\n",
        "\n",
        "What is the relative contribution of specific Cardiovascular disease to the total incidence, mortality, or prevalance of all cardiovasular diseases in each province or territory?\n",
        "\n",
        "What are the most notable geographic patterns or hotspots of cardiovascular disease burden, and how do they differ across regions?\n"
      ],
      "metadata": {
        "id": "syewY1E5-kVt"
      }
    },
    {
      "cell_type": "markdown",
      "source": [
        "## Now let us see what we need to analyze to be able to answer the first question:\n",
        "\n",
        "What are the similarities and differences in incidence, mortality and prevalance rates of specific cardiovascular diseases across Canada?\n"
      ],
      "metadata": {
        "id": "NBChwBap_ump"
      }
    },
    {
      "cell_type": "code",
      "source": [
        "# Analysis Provincially for Acute Myocardial Infarction(AMI):\n",
        "\n",
        "# create subplots\n",
        "\n",
        "fig, axes = plt.subplots(3, 1, figsize=(12, 18))\n",
        "fig.subplots_adjust(top=2, bottom=0.2)\n",
        "\n",
        "sns.barplot(x=\"Area\", y=\"Rate (per 100,000)\", data=provincialidf_AMI, errorbar=None, ax=axes[0])\n",
        "axes[0].set_title(\"Acute Myocardial Infarction Incidence Rates\")\n",
        "\n",
        "# set x-axis label rotation to 90 degrees\n",
        "\n",
        "axes[0].set_xticklabels(labels=axes[0].get_xticklabels(), rotation=90)\n",
        "\n",
        "# add text labels to incidence rates\n",
        "for i in axes[0].patches:\n",
        "  axes[0].text(i.get_x()+0.2, i.get_height()+20, \\\n",
        "            str(round(i.get_height(), 2)), fontsize=10, color='dimgrey')\n",
        "\n",
        "# plot mortality rates\n",
        "\n",
        "sns.barplot(x=\"Area\", y=\"Mortality with the condition (per 100,000)\", data=provincialmdf_AMI, errorbar=None, ax=axes[1])\n",
        "axes[1].set_title(\"Acute Myocardial Infarction Mortality Rates\")\n",
        "\n",
        "# set x-axis label rotation to 90 degrees\n",
        "\n",
        "axes[1].set_xticklabels(labels=axes[1].get_xticklabels(), rotation=90)\n",
        "\n",
        "# add text labels to mortality rates\n",
        "for i in axes[1].patches:\n",
        "  axes[1].text(i.get_x()+0.3, i.get_height()+1, \\\n",
        "            str(round(i.get_height(), 2)), fontsize=10, color='dimgrey')\n",
        "    \n",
        "# plot prevalence rates\n",
        "\n",
        "sns.barplot(x=\"Area\", y=\"Rate (%)\", data=provincialpdf_AMI, errorbar=None, ax=axes[2])\n",
        "axes[2].set_title(\"Acute Myocardial Infarction Prevalence Rates\")\n",
        "\n",
        "# add text labels to prevalence rates\n",
        "for i in axes[2].patches:\n",
        "  axes[2].text(i.get_x()+0.2, i.get_height()+0.2, \\\n",
        "            str(round(i.get_height(), 2)), fontsize=9, color='dimgrey')\n",
        "\n",
        "# set x-axis label rotation to 90 degrees\n",
        "\n",
        "axes[2].set_xticklabels(labels=axes[2].get_xticklabels(), rotation=90)\n",
        "\n",
        "plt.tight_layout()\n",
        "plt.show()\n",
        "\n",
        "\n",
        "\n"
      ],
      "metadata": {
        "id": "cJO7NQpvJL-J"
      },
      "execution_count": null,
      "outputs": []
    },
    {
      "cell_type": "code",
      "source": [
        "# Analysis Provincially for Ischemic Heart Disease(IHD):\n",
        "\n",
        "# create subplots\n",
        "\n",
        "fig, axes = plt.subplots(3, 1, figsize=(10, 15))\n",
        "\n",
        "sns.barplot(x=\"Area\", y=\"Rate (per 100,000)\", data=provincialidf_IHD, errorbar=None, ax=axes[0])\n",
        "axes[0].set_title(\"Ischemic Heart Disease Incidence Rates\")\n",
        "\n",
        "# set x-axis label rotation to 90 degrees\n",
        "\n",
        "axes[0].set_xticklabels(labels=axes[0].get_xticklabels(), rotation=90)\n",
        "\n",
        "# add text labels to incidence rates\n",
        "for i in axes[0].patches:\n",
        "  axes[0].text(i.get_x()+0.2, i.get_height()+20, \\\n",
        "            str(round(i.get_height(), 2)), fontsize=10, color='dimgrey')\n",
        "\n",
        "# plot mortality rates\n",
        "\n",
        "sns.barplot(x=\"Area\", y=\"Mortality with the condition (per 100,000)\", data=provincialmdf_IHD, errorbar=None, ax=axes[1])\n",
        "axes[1].set_title(\"Ischemic Heart Disease Mortality Rates\")\n",
        "\n",
        "# set x-axis label rotation to 90 degrees\n",
        "\n",
        "axes[1].set_xticklabels(labels=axes[1].get_xticklabels(), rotation=90)\n",
        "\n",
        "# add text labels to mortality rates\n",
        "for i in axes[1].patches:\n",
        "  axes[1].text(i.get_x()+0.2, i.get_height()+1, \\\n",
        "            str(round(i.get_height(), 2)), fontsize=10, color='dimgrey')\n",
        "    \n",
        "# plot prevalence rates\n",
        "\n",
        "sns.barplot(x=\"Area\", y=\"Rate (%)\", data=provincialpdf_IHD, errorbar=None, ax=axes[2])\n",
        "axes[2].set_title(\"Ischemic Heart Disease Prevalence Rates\")\n",
        "\n",
        "# add text labels to prevalence rates\n",
        "for i in axes[2].patches:\n",
        "  axes[2].text(i.get_x()+0.2, i.get_height()+0.1, \\\n",
        "            str(round(i.get_height(), 2)), fontsize=10, color='dimgrey')\n",
        "\n",
        "# set x-axis label rotation to 90 degrees\n",
        "\n",
        "axes[2].set_xticklabels(labels=axes[2].get_xticklabels(), rotation=90)\n",
        "\n",
        "plt.tight_layout()\n",
        "plt.show()"
      ],
      "metadata": {
        "id": "nBf7p1eYXMnw"
      },
      "execution_count": null,
      "outputs": []
    },
    {
      "cell_type": "code",
      "source": [
        "# Analysis Provincially for Heart Failure(HF):\n",
        "\n",
        "# create subplots\n",
        "\n",
        "fig, axes = plt.subplots(3, 1, figsize=(10, 15))\n",
        "\n",
        "sns.barplot(x=\"Area\", y=\"Rate (per 100,000)\", data=provincialidf_HF, errorbar=None, ax=axes[0])\n",
        "axes[0].set_title(\"Heart Failure Incidence Rates\")\n",
        "\n",
        "# set x-axis label rotation to 90 degrees\n",
        "\n",
        "axes[0].set_xticklabels(labels=axes[0].get_xticklabels(), rotation=90)\n",
        "\n",
        "# add text labels to incidence rates\n",
        "for i in axes[0].patches:\n",
        "  axes[0].text(i.get_x()+0.2, i.get_height()+20, \\\n",
        "            str(round(i.get_height(), 2)), fontsize=10, color='dimgrey')\n",
        "\n",
        "# plot mortality rates\n",
        "\n",
        "sns.barplot(x=\"Area\", y=\"Mortality with the condition (per 100,000)\", data=provincialmdf_HF, errorbar=None, ax=axes[1])\n",
        "axes[1].set_title(\"Heart Failure Mortality Rates\")\n",
        "\n",
        "# set x-axis label rotation to 90 degrees\n",
        "\n",
        "axes[1].set_xticklabels(labels=axes[1].get_xticklabels(), rotation=90)\n",
        "\n",
        "# add text labels to mortality rates\n",
        "for i in axes[1].patches:\n",
        "  axes[1].text(i.get_x()+0.2, i.get_height()+1, \\\n",
        "            str(round(i.get_height(), 2)), fontsize=10, color='dimgrey')\n",
        "    \n",
        "# plot prevalence rates\n",
        "\n",
        "sns.barplot(x=\"Area\", y=\"Rate (%)\", data=provincialpdf_HF, errorbar=None, ax=axes[2])\n",
        "axes[2].set_title(\"Heart Failure Prevalence Rates\")\n",
        "\n",
        "# add text labels to prevalence rates\n",
        "for i in axes[2].patches:\n",
        "  axes[2].text(i.get_x()+0.2, i.get_height()+0.1, \\\n",
        "            str(round(i.get_height(), 2)), fontsize=10, color='dimgrey')\n",
        "\n",
        "# set x-axis label rotation to 90 degrees\n",
        "\n",
        "axes[2].set_xticklabels(labels=axes[2].get_xticklabels(), rotation=90)\n",
        "\n",
        "plt.tight_layout()\n",
        "plt.show()"
      ],
      "metadata": {
        "id": "lhwYDYCek7xf"
      },
      "execution_count": null,
      "outputs": []
    },
    {
      "cell_type": "code",
      "source": [
        "# Analysis Provincially for Hypertension(HT):\n",
        "# create subplots\n",
        "\n",
        "fig, axes = plt.subplots(3, 1, figsize=(10, 15))\n",
        "\n",
        "sns.barplot(x=\"Area\", y=\"Rate (per 100,000)\", data=provincialidf_HT, errorbar=None, ax=axes[0])\n",
        "axes[0].set_title(\"Hypertension Incidence Rates\")\n",
        "\n",
        "# set x-axis label rotation to 90 degrees\n",
        "\n",
        "axes[0].set_xticklabels(labels=axes[0].get_xticklabels(), rotation=90)\n",
        "\n",
        "# add text labels to incidence rates\n",
        "for i in axes[0].patches:\n",
        "  axes[0].text(i.get_x()+0.2, i.get_height()+20, \\\n",
        "            str(round(i.get_height(), 2)), fontsize=10, color='dimgrey')\n",
        "\n",
        "# plot mortality rates\n",
        "\n",
        "sns.barplot(x=\"Area\", y=\"Mortality with the condition (per 100,000)\", data=provincialmdf_HT, errorbar=None, ax=axes[1])\n",
        "axes[1].set_title(\"Hypertension Mortality Rates\")\n",
        "\n",
        "# set x-axis label rotation to 90 degrees\n",
        "\n",
        "axes[1].set_xticklabels(labels=axes[1].get_xticklabels(), rotation=90)\n",
        "\n",
        "# add text labels to mortality rates\n",
        "for i in axes[1].patches:\n",
        "  axes[1].text(i.get_x()+0.2, i.get_height()+1, \\\n",
        "            str(round(i.get_height(), 2)), fontsize=10, color='dimgrey')\n",
        "    \n",
        "# plot prevalence rates\n",
        "\n",
        "sns.barplot(x=\"Area\", y=\"Rate (%)\", data=provincialpdf_HT, errorbar=None, ax=axes[2])\n",
        "axes[2].set_title(\"Hypertension Prevalence Rates\")\n",
        "\n",
        "# add text labels to prevalence rates\n",
        "for i in axes[2].patches:\n",
        "  axes[2].text(i.get_x()+0.2, i.get_height()+0.1, \\\n",
        "            str(round(i.get_height(), 2)), fontsize=10, color='dimgrey')\n",
        "\n",
        "# set x-axis label rotation to 90 degrees\n",
        "\n",
        "axes[2].set_xticklabels(labels=axes[2].get_xticklabels(), rotation=90)\n",
        "\n",
        "plt.tight_layout()\n",
        "plt.show()"
      ],
      "metadata": {
        "id": "yJwrkIbIlEnn"
      },
      "execution_count": null,
      "outputs": []
    },
    {
      "cell_type": "code",
      "source": [
        "# Analysis Provincially for Stroke(S):\n",
        "\n",
        "# create subplots\n",
        "\n",
        "fig, axes = plt.subplots(3, 1, figsize=(10, 15))\n",
        "\n",
        "sns.barplot(x=\"Area\", y=\"Rate (per 100,000)\", data=provincialidf_S, errorbar=None, ax=axes[0])\n",
        "\n",
        "\n",
        "axes[0].set_title(\"Stroke Incidence Rates\")\n",
        "\n",
        "# set x-axis label rotation to 90 degrees\n",
        "\n",
        "axes[0].set_xticklabels(labels=axes[0].get_xticklabels(), rotation=90)\n",
        "\n",
        "# add text labels to incidence rates\n",
        "for i in axes[0].patches:\n",
        "  axes[0].text(i.get_x()+0.2, i.get_height()+20, \\\n",
        "            str(round(i.get_height(), 2)), fontsize=10, color='dimgrey')\n",
        "\n",
        "# plot mortality rates\n",
        "\n",
        "sns.barplot(x=\"Area\", y=provincialmdf_S.columns.values[9], data=provincialmdf_S, errorbar=None, ax=axes[1])\n",
        "axes[1].set_title(\"Stroke Mortality Rates\")\n",
        "\n",
        "# set x-axis label rotation to 90 degrees\n",
        "\n",
        "axes[1].set_xticklabels(labels=axes[1].get_xticklabels(), rotation=90)\n",
        "\n",
        "# add text labels to mortality rates\n",
        "for i in axes[1].patches:\n",
        "  axes[1].text(i.get_x()+0.2, i.get_height()+1, \\\n",
        "            str(round(i.get_height(), 2)), fontsize=10, color='dimgrey')\n",
        "    \n",
        "# plot prevalence rates\n",
        "\n",
        "sns.barplot(x=\"Area\", y=\"Rate (%)\", data=provincialpdf_S, errorbar=None, ax=axes[2])\n",
        "axes[2].set_title(\"Stroke Prevalence Rates\")\n",
        "\n",
        "# add text labels to prevalence rates\n",
        "for i in axes[2].patches:\n",
        "  axes[2].text(i.get_x()+0.2, i.get_height()+0.1, \\\n",
        "            str(round(i.get_height(), 2)), fontsize=10, color='dimgrey')\n",
        "\n",
        "# set x-axis label rotation to 90 degrees\n",
        "\n",
        "axes[2].set_xticklabels(labels=axes[2].get_xticklabels(), rotation=90)\n",
        "\n",
        "plt.tight_layout()\n",
        "plt.show()\n"
      ],
      "metadata": {
        "id": "G9mU3aLMXuB6"
      },
      "execution_count": null,
      "outputs": []
    },
    {
      "cell_type": "markdown",
      "source": [
        "## Now let's start analysing our data to get a better undersatnding to answer our second analysis question.\n",
        "\n",
        "`What are the temporal trends in incidence, mortality and prevalance rates of specific cardiovascular diseases over time?`"
      ],
      "metadata": {
        "id": "nXj4fv_DolAz"
      }
    },
    {
      "cell_type": "markdown",
      "source": [
        "### Incidence Trend over time for all 5 conditions"
      ],
      "metadata": {
        "id": "rfgAY5gwli1m"
      }
    },
    {
      "cell_type": "markdown",
      "source": [
        "*There was a bit of Transformation necessary before this Incidence trend can be plotted*"
      ],
      "metadata": {
        "id": "7-HNRyT1lkoD"
      }
    },
    {
      "cell_type": "markdown",
      "source": [
        "The column name 'Rate (per 100,000)' contains a non-standard character. The space between 'per' and '100,000' appears to be a non-breaking space (Unicode character codepoint U+00A0), which can cause issues with certain functions and methods that expect a regular space character.\n",
        "\n",
        "It was throwing an error even though it was an exact match. \n",
        "\n",
        "Checked by printing the column names.\n",
        "\n",
        "Then proceeded to check by printing out the column names using a for loop to see if there are any unexpected characters.\n",
        "\n",
        "Then had to replace this non-breaking space with a regular space using the str.replace() method."
      ],
      "metadata": {
        "id": "8J1y-0WvnrEt"
      }
    },
    {
      "cell_type": "code",
      "source": [
        "print(provincialidf_HF.columns)\n"
      ],
      "metadata": {
        "id": "ar3_odtXjwZu"
      },
      "execution_count": null,
      "outputs": []
    },
    {
      "cell_type": "code",
      "source": [
        "for col in provincialidf_HF.columns:\n",
        "    print(repr(col))\n"
      ],
      "metadata": {
        "id": "mc5bHF_ckQjV"
      },
      "execution_count": null,
      "outputs": []
    },
    {
      "cell_type": "code",
      "source": [
        "for col in provincialidf_HT.columns:\n",
        "    print(repr(col))"
      ],
      "metadata": {
        "id": "nDVtDEH7kiB7"
      },
      "execution_count": null,
      "outputs": []
    },
    {
      "cell_type": "code",
      "source": [
        "provincialidf_AMI.columns = provincialidf_AMI.columns.str.replace('\\xa0', ' ')\n",
        "provincialidf_HF.columns = provincialidf_HF.columns.str.replace('\\xa0', ' ')\n",
        "provincialidf_HT.columns = provincialidf_HF.columns.str.replace('\\xa0', ' ')\n",
        "provincialidf_S.columns = provincialidf_HF.columns.str.replace('\\xa0', ' ')\n",
        "provincialidf_IHD.columns = provincialidf_HF.columns.str.replace('\\xa0', ' ')\n",
        "\n"
      ],
      "metadata": {
        "id": "z3UGXidokeGr"
      },
      "execution_count": null,
      "outputs": []
    },
    {
      "cell_type": "code",
      "source": [
        "# Pivot the dataframes\n",
        "provincialidf_AMI_pivot = pd.pivot_table(provincialidf_AMI, values=['Rate (per 100,000)'], index=['Year'], columns=['Sex'], aggfunc='mean')\n",
        "provincialidf_HF_pivot = pd.pivot_table(provincialidf_HF, values=['Rate (per 100,000)'], index=['Year'], columns=['Sex'], aggfunc='mean')\n",
        "provincialidf_HT_pivot = pd.pivot_table(provincialidf_HT, values=['Rate (per 100,000)'], index=['Year'], columns=['Sex'], aggfunc='mean')\n",
        "provincialidf_S_pivot = pd.pivot_table(provincialidf_S, values=['Rate (per 100,000)'], index=['Year'], columns=['Sex'], aggfunc='mean')\n",
        "provincialidf_IHD_pivot = pd.pivot_table(provincialidf_IHD, values=['Rate (per 100,000)'], index=['Year'], columns=['Sex'], aggfunc='mean')\n",
        "\n",
        "# Define line styles for each condition\n",
        "line_styles = ['-', '--', ':', '-.', (0, (3, 1, 1, 1)), (0, (1, 1))]\n",
        "\n",
        "# Plot the incidence trend for AMI\n",
        "plt.plot(provincialidf_AMI_pivot.index.astype(str), provincialidf_AMI_pivot[('Rate (per 100,000)', 'Both sexes')], label='AMI', marker='o', linestyle=line_styles[0])\n",
        "\n",
        "# Plot the incidence trend for HF\n",
        "plt.plot(provincialidf_HF_pivot.index.astype(str), provincialidf_HF_pivot[('Rate (per 100,000)', 'Both sexes')], label='HF', marker='D', linestyle=line_styles[1])\n",
        "\n",
        "# Plot the incidence trend for HT\n",
        "plt.plot(provincialidf_HT_pivot.index.astype(str), provincialidf_HT_pivot[('Rate (per 100,000)', 'Both sexes')], label='HT', marker='^', linestyle=line_styles[2])\n",
        "\n",
        "# Plot the incidence trend for Stroke\n",
        "plt.plot(provincialidf_S_pivot.index.astype(str), provincialidf_S_pivot[('Rate (per 100,000)', 'Both sexes')], label='Stroke', marker='s', linestyle=line_styles[3])\n",
        "\n",
        "# Plot the incidence trend for IHD\n",
        "plt.plot(provincialidf_IHD_pivot.index.astype(str), provincialidf_IHD_pivot[('Rate (per 100,000)', 'Both sexes')], label='IHD', marker='x', linestyle=line_styles[4])\n",
        "\n",
        "\n",
        "# Set the title, x-axis label, and y-axis label\n",
        "plt.title('Incidence Trends')\n",
        "plt.xlabel('Year')\n",
        "plt.ylabel('Incidence (per 100,000)')\n",
        "plt.xticks(rotation=45)\n",
        "\n",
        "# Add the legend outside the plot\n",
        "plt.legend(loc='center left', bbox_to_anchor=(1.0, 0.5))\n",
        "\n",
        "# Show the plot\n",
        "plt.show()\n"
      ],
      "metadata": {
        "id": "KHIMrQtljb9Q"
      },
      "execution_count": null,
      "outputs": []
    },
    {
      "cell_type": "markdown",
      "source": [
        "### Mortality Trend over time for all 5 conditions"
      ],
      "metadata": {
        "id": "l2N-ZR4OpBo1"
      }
    },
    {
      "cell_type": "markdown",
      "source": [
        "Just as with the Incidence, the Mortality datasets also happen to have a non-standard character in column name being called."
      ],
      "metadata": {
        "id": "Rj0LiaHPqEE0"
      }
    },
    {
      "cell_type": "code",
      "source": [
        "for col in provincialmdf_HT.columns:\n",
        "    print(repr(col))"
      ],
      "metadata": {
        "id": "CQT6aJ8mp3T4"
      },
      "execution_count": null,
      "outputs": []
    },
    {
      "cell_type": "markdown",
      "source": [
        "Replacing non-breaking space with a regular space using the str.replace() method."
      ],
      "metadata": {
        "id": "e7sG5ueZqTgz"
      }
    },
    {
      "cell_type": "code",
      "source": [
        "provincialmdf_AMI.columns = provincialmdf_AMI.columns.str.replace('\\xa0', ' ')\n",
        "provincialmdf_HF.columns = provincialmdf_HF.columns.str.replace('\\xa0', ' ')\n",
        "provincialmdf_HT.columns = provincialmdf_HF.columns.str.replace('\\xa0', ' ')\n",
        "provincialmdf_S.columns = provincialmdf_HF.columns.str.replace('\\xa0', ' ')\n",
        "provincialmdf_IHD.columns = provincialmdf_HF.columns.str.replace('\\xa0', ' ')"
      ],
      "metadata": {
        "id": "SRbmLXrlqVGn"
      },
      "execution_count": null,
      "outputs": []
    },
    {
      "cell_type": "code",
      "source": [
        "# Pivot the dataframes\n",
        "provincialmdf_AMI_pivot = pd.pivot_table(provincialmdf_AMI, values=['Mortality with the condition (per 100,000)'], index=['Year'], columns=['Sex'], aggfunc='mean')\n",
        "provincialmdf_HF_pivot = pd.pivot_table(provincialmdf_HF, values=['Mortality with the condition (per 100,000)'], index=['Year'], columns=['Sex'], aggfunc='mean')\n",
        "provincialmdf_HT_pivot = pd.pivot_table(provincialmdf_HT, values=['Mortality with the condition (per 100,000)'], index=['Year'], columns=['Sex'], aggfunc='mean')\n",
        "provincialmdf_S_pivot = pd.pivot_table(provincialmdf_S, values=['Mortality with the condition (per 100,000)'], index=['Year'], columns=['Sex'], aggfunc='mean')\n",
        "provincialmdf_IHD_pivot = pd.pivot_table(provincialmdf_IHD, values=['Mortality with the condition (per 100,000)'], index=['Year'], columns=['Sex'], aggfunc='mean')\n",
        "\n",
        "\n",
        "# Plot the mortality trend for HF\n",
        "plt.plot(provincialmdf_HF_pivot.index.astype(str), provincialmdf_HF_pivot[('Mortality with the condition (per 100,000)', 'Both sexes')], label='HF', marker='D')\n",
        "\n",
        "# Plot the mortality trend for AMI\n",
        "plt.plot(provincialmdf_AMI_pivot.index.astype(str), provincialmdf_AMI_pivot[('Mortality with the condition (per 100,000)', 'Both sexes')], label='AMI', marker='o')\n",
        "\n",
        "# Plot the mortality trend for Stroke\n",
        "plt.plot(provincialmdf_S_pivot.index.astype(str), provincialmdf_S_pivot[('Mortality with the condition (per 100,000)', 'Both sexes')], label='Stroke', marker='s')\n",
        "\n",
        "# Plot the mortality trend for IHD\n",
        "plt.plot(provincialmdf_IHD_pivot.index.astype(str), provincialmdf_IHD_pivot[('Mortality with the condition (per 100,000)', 'Both sexes')], label='IHD', marker='x')\n",
        "\n",
        "# Plot the mortality trend for HT\n",
        "plt.plot(provincialmdf_HT_pivot.index.astype(str), provincialmdf_HT_pivot[('Mortality with the condition (per 100,000)', 'Both sexes')], label='HT', marker='^')\n",
        "\n",
        "# Set the title, x-axis label, and y-axis label\n",
        "plt.title('Mortality Trends')\n",
        "plt.xlabel('Year')\n",
        "plt.ylabel('Mortality (per 100,000)')\n",
        "plt.xticks(rotation=45)\n",
        "\n",
        "# Add the legend outside the plot\n",
        "plt.legend(loc='center left', bbox_to_anchor=(1.0, 0.5))\n",
        "\n",
        "# Show the plot\n",
        "plt.show()\n"
      ],
      "metadata": {
        "id": "SdgQgSPho-3n"
      },
      "execution_count": null,
      "outputs": []
    },
    {
      "cell_type": "markdown",
      "source": [
        "## Now let's delve into our third analysis question.\n",
        "\n",
        "What is the relative contribution of specific cardiovascular diseases to the total incidence,mortality,or prevalance of all cardiovascular diseases in each provice?"
      ],
      "metadata": {
        "id": "uJhNEOsnvZhi"
      }
    },
    {
      "cell_type": "code",
      "source": [
        "\n",
        "# group by Area and sum up the values for each disease\n",
        "prevalence_data = pd.concat([provincialpdf_S,provincialpdf_AMI, provincialpdf_HF ,provincialpdf_IHD, provincialpdf_HT])\n",
        "total_prevalence = prevalence_data.groupby(\"Area\")[\"Rate (%)\"].sum()\n",
        "\n"
      ],
      "metadata": {
        "id": "Nj4WKw8lcFR8"
      },
      "execution_count": null,
      "outputs": []
    },
    {
      "cell_type": "code",
      "source": [
        "total_prevalence"
      ],
      "metadata": {
        "id": "aMCHv2bFc9UT"
      },
      "execution_count": null,
      "outputs": []
    },
    {
      "cell_type": "code",
      "source": [
        "# Calculate total_incidence\n",
        "\n",
        "incidence_data = pd.concat([provincialidf_S,provincialidf_AMI, provincialidf_HF ,provincialidf_IHD, provincialidf_HT])"
      ],
      "metadata": {
        "id": "UeCLzoC1cJj7"
      },
      "execution_count": null,
      "outputs": []
    },
    {
      "cell_type": "code",
      "source": [
        "total_incidence = incidence_data.groupby(\"Area\")[incidence_data.columns.values[4]].sum()\n"
      ],
      "metadata": {
        "id": "x3-QIQ8hgZIl"
      },
      "execution_count": null,
      "outputs": []
    },
    {
      "cell_type": "code",
      "source": [
        "# Calculate total_mortality\n",
        "mortality_data = pd.concat([provincialmdf_S,provincialmdf_AMI, provincialmdf_HF ,provincialmdf_IHD, provincialmdf_HT])\n",
        "total_mortality = mortality_data.groupby(\"Area\")[mortality_data.columns[9]].sum()\n",
        "Stroke_Mortality=provincialmdf_S.groupby(\"Area\")[provincialmdf_S.columns[9]].sum()\n",
        "AMI_Mortality=provincialmdf_AMI.groupby(\"Area\")[provincialmdf_AMI.columns[9]].sum()\n",
        "HF_Mortality=provincialmdf_HF.groupby(\"Area\")[provincialmdf_HF.columns[9]].sum()\n",
        "HT_Mortality=provincialmdf_HT.groupby(\"Area\")[provincialmdf_HT.columns[9]].sum()\n",
        "IHD_Mortality=provincialmdf_IHD.groupby(\"Area\")[provincialmdf_IHD.columns[9]].sum()"
      ],
      "metadata": {
        "id": "Wr44bDHVcLgl"
      },
      "execution_count": null,
      "outputs": []
    },
    {
      "cell_type": "code",
      "source": [
        "total_mortality "
      ],
      "metadata": {
        "id": "T6pWJ7ftdkxd"
      },
      "execution_count": null,
      "outputs": []
    },
    {
      "cell_type": "code",
      "source": [
        "import matplotlib.pyplot as plt\n",
        "import numpy as np\n",
        "\n",
        "# Defining the data\n",
        "provinces = total_mortality.index.tolist()\n",
        "cvd_deaths = total_mortality.values.tolist()\n",
        "stroke_mortality = Stroke_Mortality.tolist()\n",
        "\n",
        "# Calculate the percentages\n",
        "percentages_s = [(s / c) * 100 for s, c in zip(stroke_mortality, cvd_deaths)]\n",
        "\n",
        "# Set the colormap\n",
        "colors = plt.cm.viridis(np.linspace(0, 1, len(provinces)))\n",
        "\n",
        "# Set the text color to red\n",
        "text_props = {'color': 'red'}\n",
        "\n",
        "# Plot the pie chart\n",
        "plt.pie(percentages_s, labels=provinces, autopct='%1.1f%%', startangle=90, colors=colors, textprops=text_props)\n",
        "plt.axis('equal')\n",
        "plt.title('Relative Contribution of Stroke Mortality to Total Mortality of All CVD in Canada')\n",
        "\n",
        "plt.show()\n"
      ],
      "metadata": {
        "id": "S7SyctKfcTHL"
      },
      "execution_count": null,
      "outputs": []
    },
    {
      "cell_type": "code",
      "source": [
        "import matplotlib.pyplot as plt\n",
        "import numpy as np\n",
        "\n",
        "# Defining the data\n",
        "provinces = total_mortality.index.tolist()\n",
        "cvd_deaths = total_mortality.values.tolist()\n",
        "HF_mortality = HF_Mortality.tolist()\n",
        "\n",
        "# Calculate the percentages\n",
        "percentages = [(HF / c) * 100 for HF, c in zip(HF_mortality, cvd_deaths)]\n",
        "\n",
        "# Set the colormap\n",
        "colors = plt.cm.viridis(np.linspace(0, 1, len(provinces)))\n",
        "\n",
        "# Set the text color to red\n",
        "text_props = {'color': 'red'}\n",
        "\n",
        "# Plot the pie chart\n",
        "  \n",
        "plt.pie(percentages, labels=provinces, autopct='%1.1f%%', startangle=90, colors=colors, textprops=text_props)\n",
        "plt.axis('equal')\n",
        "plt.title('Relative Contribution of Heart Failure Mortality to Total Mortality of All CVD in Canada')\n",
        "\n",
        "plt.show()\n"
      ],
      "metadata": {
        "id": "_coKKWacnXae"
      },
      "execution_count": null,
      "outputs": []
    },
    {
      "cell_type": "code",
      "source": [
        "import matplotlib.pyplot as plt\n",
        "import numpy as np\n",
        "\n",
        "# Defining the data\n",
        "provinces = total_mortality.index.tolist()\n",
        "cvd_deaths = total_mortality.values.tolist()\n",
        "IHD_mortality = IHD_Mortality.tolist()\n",
        "\n",
        "# Calculate the percentages\n",
        "percentages = [(IHD / c) * 100 for IHD, c in zip(IHD_mortality, cvd_deaths)]\n",
        "\n",
        "# Set the colormap\n",
        "colors = plt.cm.viridis(np.linspace(0, 1, len(provinces)))\n",
        "\n",
        "# Set the text color to red\n",
        "text_props = {'color': 'red'}\n",
        "\n",
        "# Plot the pie chart\n",
        "  \n",
        "plt.pie(percentages, labels=provinces, autopct='%1.1f%%', startangle=90, colors=colors, textprops=text_props)\n",
        "plt.axis('equal')\n",
        "plt.title('Relative Contribution of IHD Mortality to Total Mortality of All CVD in Canada')\n",
        "\n",
        "plt.show()"
      ],
      "metadata": {
        "id": "8n4LCNPpo73A"
      },
      "execution_count": null,
      "outputs": []
    },
    {
      "cell_type": "code",
      "source": [
        "import matplotlib.pyplot as plt\n",
        "import numpy as np\n",
        "\n",
        "# Defining the data\n",
        "provinces = total_mortality.index.tolist()\n",
        "cvd_deaths = total_mortality.values.tolist()\n",
        "HT_mortality = HT_Mortality.tolist()\n",
        "\n",
        "# Calculate the percentages\n",
        "percentages = [(HT / c) * 100 for HT, c in zip(HT_mortality, cvd_deaths)]\n",
        "\n",
        "# Set the colormap\n",
        "colors = plt.cm.viridis(np.linspace(0, 1, len(provinces)))\n",
        "\n",
        "# Set the text color to red\n",
        "text_props = {'color': 'red'}\n",
        "\n",
        "# Plot the pie chart\n",
        "  \n",
        "plt.pie(percentages, labels=provinces, autopct='%1.1f%%', startangle=90, colors=colors, textprops=text_props)\n",
        "plt.axis('equal')\n",
        "plt.title('Relative Contribution of HT Mortality to Total Mortality of All CVD in Canada')\n",
        "\n",
        "plt.show()"
      ],
      "metadata": {
        "id": "jkfPybURAsSF"
      },
      "execution_count": null,
      "outputs": []
    },
    {
      "cell_type": "code",
      "source": [
        "#Calculate the total CVD deaths\n",
        "cvd_deaths = total_mortality.sum().sum()\n",
        "# Calculate the stroke mortality and non-stroke CVD mortality\n",
        "stroke_mortality = Stroke_Mortality.sum().sum()\n",
        "non_stroke_mortality = cvd_deaths - stroke_mortality\n",
        "# Plot the pie chart\n",
        "labels = ['Stroke Mortality', 'Non-Stroke CVD Mortality']\n",
        "data = [stroke_mortality, non_stroke_mortality]\n",
        "plt.pie(data, labels=labels, autopct='%1.1f%%',shadow=True, startangle=90)\n",
        "plt.title('Ratio of Stroke Mortality to Non-Stroke CVD Mortality in Canada')\n",
        "plt.show()\n",
        "\n"
      ],
      "metadata": {
        "id": "M08YoEBfcVrE"
      },
      "execution_count": null,
      "outputs": []
    },
    {
      "cell_type": "code",
      "source": [
        "#Calculate the total CVD deaths\n",
        "cvd_deaths = total_mortality.sum().sum()\n",
        "# Calculate the stroke mortality and non-stroke CVD mortality\n",
        "stroke_mortality = Stroke_Mortality.sum().sum()\n",
        "non_stroke_mortality = cvd_deaths - stroke_mortality\n",
        "# Plot the pie chart\n",
        "labels = ['Stroke Mortality', 'Non-Stroke CVD Mortality']\n",
        "data = [stroke_mortality, non_stroke_mortality]\n",
        "plt.pie(data, labels=labels, autopct='%1.1f%%',shadow=True, startangle=90)\n",
        "plt.title('Ratio of Stroke Mortality to Non-Stroke CVD Mortality in Canada')\n",
        "plt.show()"
      ],
      "metadata": {
        "id": "ioAP9cdPmYUy"
      },
      "execution_count": null,
      "outputs": []
    },
    {
      "cell_type": "code",
      "source": [
        "#Calculate the total CVD deaths\n",
        "cvd_deaths = total_mortality.sum()\n",
        "# Calculate the HF mortality and non-HF CVD mortality\n",
        "HF_mortality = HF_Mortality.sum()\n",
        "non_HF_mortality = cvd_deaths - HF_mortality\n",
        "# Plot the pie chart\n",
        "labels = ['HF Mortality', 'Non-HF CVD Mortality']\n",
        "data = [HF_mortality, non_HF_mortality]\n",
        "plt.pie(data, labels=labels, autopct='%1.1f%%',shadow=True, startangle=90)\n",
        "plt.title('Ratio of HF Mortality to Non-HF CVD Mortality in Canada')\n",
        "plt.show()"
      ],
      "metadata": {
        "id": "DvYhwk1nvOmU"
      },
      "execution_count": null,
      "outputs": []
    },
    {
      "cell_type": "code",
      "source": [
        "#Calculate the total CVD deaths\n",
        "cvd_deaths = total_mortality.sum()\n",
        "# Calculate the IHD mortality and non-IHD CVD mortality\n",
        "IHD_mortality = IHD_Mortality.sum()\n",
        "non_IHD_mortality = cvd_deaths - IHD_mortality\n",
        "# Plot the pie chart\n",
        "labels = ['IHD_mortality', 'Non-IHD CVD Mortality']\n",
        "data = [IHD_mortality, non_IHD_mortality]\n",
        "plt.pie(data, labels=labels, autopct='%1.1f%%',shadow=True, startangle=90)\n",
        "plt.title('Ratio of IHD Mortality to Non-IHD CVD Mortality in Canada')\n",
        "plt.show()"
      ],
      "metadata": {
        "id": "wUmLauOSwV11"
      },
      "execution_count": null,
      "outputs": []
    },
    {
      "cell_type": "code",
      "source": [
        "#Calculate the total CVD deaths\n",
        "cvd_deaths = total_mortality.sum()\n",
        "# Calculate the HT mortality and non-HT CVD mortality\n",
        "HT_mortality = HT_Mortality.sum()\n",
        "non_HT_mortality = cvd_deaths - HT_mortality\n",
        "# Plot the pie chart\n",
        "labels = ['HT_mortality', 'Non-HT CVD Mortality']\n",
        "data = [HT_mortality, non_HT_mortality]\n",
        "plt.pie(data, labels=labels, autopct='%1.1f%%',shadow=True, startangle=90)\n",
        "plt.title('Ratio of HT Mortality to Non-HT CVD Mortality in Canada')\n",
        "plt.show()"
      ],
      "metadata": {
        "id": "D-hIcoAExUuD"
      },
      "execution_count": null,
      "outputs": []
    },
    {
      "cell_type": "code",
      "source": [
        "#Calculate the total CVD deaths\n",
        "cvd_deaths = total_mortality.sum()\n",
        "# Calculate the HT mortality and non-HT CVD mortality\n",
        "AMI_mortality = AMI_Mortality.sum()\n",
        "non_AMI_mortality = cvd_deaths - AMI_mortality\n",
        "# Plot the pie chart\n",
        "labels = ['AMI_mortality', 'Non-AMI CVD Mortality']\n",
        "data = [AMI_mortality, non_AMI_mortality ]\n",
        "plt.pie(data, labels=labels, autopct='%1.1f%%',shadow=True, startangle=90)\n",
        "plt.title('Ratio of AMI Mortality to Non-AMI CVD Mortality in Canada')\n",
        "plt.show()"
      ],
      "metadata": {
        "id": "mcyPHiHPx0Lv"
      },
      "execution_count": null,
      "outputs": []
    },
    {
      "cell_type": "markdown",
      "source": [
        "## Now let's look at our fourth analysis question.\n",
        "\n",
        "What are the most notable geographic patterns or hotspots of cardiovascular disease burden, and how do they differ across regions?"
      ],
      "metadata": {
        "id": "Ft1Y8_g2v6uT"
      }
    },
    {
      "cell_type": "code",
      "source": [
        "!pip install geopandas\n",
        "import geopandas as gpd\n",
        "import pandas as pd\n",
        "import matplotlib.pyplot as plt\n",
        "\n",
        "# Load the shapefile\n",
        "canada_regions = gpd.read_file('/content/drive/MyDrive/Colab_Notebooks/Project103/gpr_000b11a_e/gpr_000b11a_e.shp')\n",
        "dfTM = total_mortality.to_frame()\n",
        "# Merge the shapefile and the incidence data based on the province or territory name\n",
        "merged_dt = canada_regions.merge(dfTM , left_on=\"PRENAME\", right_on=\"Area\")\n",
        "\n",
        "# Plot the merged data as a choropleth map of stroke incidence rates\n",
        "fig, ax = plt.subplots(figsize=(10, 6))\n",
        "merged_dt.plot(merged_dt.columns[7], cmap=\"YlOrRd\", linewidth=0.8, edgecolor=\"gray\", ax=ax, legend=True)\n",
        "ax.set_title(\"Burden of Mortality Rates in Canada\")\n",
        "ax.axis(\"off\")\n",
        "\n",
        "# Add province labels\n",
        "\n",
        "for idx, row in merged_dt.iterrows():\n",
        "\n",
        "ax.text(row.geometry.centroid.x, row.geometry.centroid.y, row['PREABBR'], ha='center', va='center', fontweight='bold', fontsize=10, color='blue', rotation=90)\n",
        "plt.ticklabel_format(style='plain')\n",
        "\n",
        "plt.show()\n",
        "\n",
        "\n"
      ],
      "metadata": {
        "id": "kb51xk9Wh9Az"
      },
      "execution_count": null,
      "outputs": []
    },
    {
      "cell_type": "code",
      "source": [
        "merged_dt.head()"
      ],
      "metadata": {
        "id": "NZpJ4-MQgXvL"
      },
      "execution_count": null,
      "outputs": []
    }
  ]
}